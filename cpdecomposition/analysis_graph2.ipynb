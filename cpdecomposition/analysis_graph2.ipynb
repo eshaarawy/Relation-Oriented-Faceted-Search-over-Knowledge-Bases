{
 "cells": [
  {
   "cell_type": "code",
   "execution_count": 1,
   "metadata": {
    "colab": {
     "base_uri": "https://localhost:8080/",
     "height": 51
    },
    "colab_type": "code",
    "executionInfo": {
     "elapsed": 4339,
     "status": "ok",
     "timestamp": 1588666305500,
     "user": {
      "displayName": "阿曽太郎",
      "photoUrl": "",
      "userId": "14621805940381040565"
     },
     "user_tz": -540
    },
    "id": "SFL8NA7SeDS_",
    "outputId": "2097a3c7-03a5-42ad-e6a0-ea08ccec4d7b"
   },
   "outputs": [
    {
     "name": "stdout",
     "output_type": "stream",
     "text": [
      "Defaulting to user installation because normal site-packages is not writeable\n",
      "Requirement already satisfied: networkx in /home/hugo/.local/lib/python3.10/site-packages (3.0)\n"
     ]
    }
   ],
   "source": [
    "!pip install networkx"
   ]
  },
  {
   "cell_type": "code",
   "execution_count": 2,
   "metadata": {
    "colab": {},
    "colab_type": "code",
    "id": "Kj18d2h1eGIS"
   },
   "outputs": [],
   "source": [
    "import networkx as nx \n",
    "import pandas as pd"
   ]
  },
  {
   "cell_type": "code",
   "execution_count": 3,
   "metadata": {
    "colab": {},
    "colab_type": "code",
    "id": "52sg5tEff5rU"
   },
   "outputs": [],
   "source": [
    "data = pd.read_csv('./input/triple.csv')"
   ]
  },
  {
   "cell_type": "code",
   "execution_count": 4,
   "metadata": {
    "colab": {},
    "colab_type": "code",
    "id": "fFYP_WRVgHcZ"
   },
   "outputs": [],
   "source": [
    "data = data.drop('property', axis=1)"
   ]
  },
  {
   "cell_type": "code",
   "execution_count": 5,
   "metadata": {
    "colab": {
     "base_uri": "https://localhost:8080/",
     "height": 379
    },
    "colab_type": "code",
    "executionInfo": {
     "elapsed": 16,
     "status": "error",
     "timestamp": 1588664940881,
     "user": {
      "displayName": "阿曽太郎",
      "photoUrl": "",
      "userId": "14621805940381040565"
     },
     "user_tz": -540
    },
    "id": "uNQqlZECiLZx",
    "outputId": "8ca633fc-868d-41d3-9fc3-e7a488d89629"
   },
   "outputs": [
    {
     "data": {
      "text/plain": [
       "\"\\nfrom IPython.display import SVG, display\\n\\nG=nx.DiGraph()\\nG.add_edges_from(data.values)\\n\\nsvg = SVG(nx.nx_agraph.to_agraph(G).draw(prog='fdp', format='svg'))\\ndisplay(svg)\\n\""
      ]
     },
     "execution_count": 5,
     "metadata": {},
     "output_type": "execute_result"
    }
   ],
   "source": [
    "'''\n",
    "from IPython.display import SVG, display\n",
    "\n",
    "G=nx.DiGraph()\n",
    "G.add_edges_from(data.values)\n",
    "\n",
    "svg = SVG(nx.nx_agraph.to_agraph(G).draw(prog='fdp', format='svg'))\n",
    "display(svg)\n",
    "'''"
   ]
  },
  {
   "cell_type": "code",
   "execution_count": 6,
   "metadata": {
    "colab": {},
    "colab_type": "code",
    "id": "DVGRD2Po0a_V"
   },
   "outputs": [],
   "source": [
    "G=nx.DiGraph()\n",
    "G.add_edges_from(data.values)"
   ]
  },
  {
   "cell_type": "code",
   "execution_count": 7,
   "metadata": {
    "colab": {
     "base_uri": "https://localhost:8080/",
     "height": 34
    },
    "colab_type": "code",
    "executionInfo": {
     "elapsed": 2007,
     "status": "ok",
     "timestamp": 1588666788733,
     "user": {
      "displayName": "阿曽太郎",
      "photoUrl": "",
      "userId": "14621805940381040565"
     },
     "user_tz": -540
    },
    "id": "ZCerEYnviu5S",
    "outputId": "289114fc-bb9e-4c0e-a7ac-95eff1fd14fc"
   },
   "outputs": [
    {
     "data": {
      "text/plain": [
       "False"
      ]
     },
     "execution_count": 7,
     "metadata": {},
     "output_type": "execute_result"
    }
   ],
   "source": [
    "nx.is_weakly_connected(G)"
   ]
  },
  {
   "cell_type": "code",
   "execution_count": 0,
   "metadata": {
    "colab": {},
    "colab_type": "code",
    "id": "Ip1oETyR6BLe"
   },
   "outputs": [],
   "source": []
  }
 ],
 "metadata": {
  "colab": {
   "authorship_tag": "ABX9TyP8j52ua9YVwLJNSXYGetkR",
   "mount_file_id": "1SJdMu8RRiUZmnMkf_hBqG8TyzkUjpjUc",
   "name": "Untitled1.ipynb",
   "provenance": []
  },
  "kernelspec": {
   "display_name": "Python 3 (ipykernel)",
   "language": "python",
   "name": "python3"
  },
  "language_info": {
   "codemirror_mode": {
    "name": "ipython",
    "version": 3
   },
   "file_extension": ".py",
   "mimetype": "text/x-python",
   "name": "python",
   "nbconvert_exporter": "python",
   "pygments_lexer": "ipython3",
   "version": "3.10.6"
  }
 },
 "nbformat": 4,
 "nbformat_minor": 1
}
