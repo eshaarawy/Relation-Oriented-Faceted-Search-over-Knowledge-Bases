{
 "cells": [
  {
   "cell_type": "code",
   "execution_count": 9,
   "metadata": {
    "executionInfo": {
     "elapsed": 917,
     "status": "ok",
     "timestamp": 1616502495157,
     "user": {
      "displayName": "Taro Aso",
      "photoUrl": "",
      "userId": "14621805940381040565"
     },
     "user_tz": -540
    },
    "id": "mCF20RhN7q6k"
   },
   "outputs": [],
   "source": [
    "import pickle\n",
    "\n",
    "f = open('./output/dict_prop.pkl','rb')\n",
    "dict_prop = pickle.load(f)"
   ]
  },
  {
   "cell_type": "code",
   "execution_count": 10,
   "metadata": {
    "executionInfo": {
     "elapsed": 555,
     "status": "ok",
     "timestamp": 1616502505994,
     "user": {
      "displayName": "Taro Aso",
      "photoUrl": "",
      "userId": "14621805940381040565"
     },
     "user_tz": -540
    },
    "id": "oi4AIPHK97vY"
   },
   "outputs": [],
   "source": [
    "def get_swap_dict(d):\n",
    "    return {v: k for k, v in d.items()}\n",
    "\n",
    "dict_prop = get_swap_dict(dict_prop)"
   ]
  },
  {
   "cell_type": "code",
   "execution_count": 11,
   "metadata": {
    "executionInfo": {
     "elapsed": 935,
     "status": "ok",
     "timestamp": 1616502531391,
     "user": {
      "displayName": "Taro Aso",
      "photoUrl": "",
      "userId": "14621805940381040565"
     },
     "user_tz": -540
    },
    "id": "DqnMW68a9OYP"
   },
   "outputs": [],
   "source": [
    "import numpy as np\n",
    "\n",
    "u3 = np.loadtxt('./output/property_sop300.csv', delimiter=',')"
   ]
  },
  {
   "cell_type": "markdown",
   "metadata": {
    "id": "sYMQCCEiNPzn"
   },
   "source": [
    "---> **Storing the configuration of properties per factor in a dataframe**"
   ]
  },
  {
   "cell_type": "code",
   "execution_count": 5,
   "metadata": {
    "executionInfo": {
     "elapsed": 540,
     "status": "ok",
     "timestamp": 1616502539767,
     "user": {
      "displayName": "Taro Aso",
      "photoUrl": "",
      "userId": "14621805940381040565"
     },
     "user_tz": -540
    },
    "id": "1ArKgsATHpxf"
   },
   "outputs": [],
   "source": [
    "import pandas as pd\n",
    "\n",
    "pf_ranking = []\n",
    "\n",
    "#Calculate the sum of the scores for each pf and store it in a dataframe (index is the number of the pf).\n",
    "for i in range(len(u3.T)):\n",
    "  pf_ranking.append(u3.T[i].sum())\n",
    "pf_ranking = np.array(pf_ranking)\n",
    "\n",
    "df = pd.DataFrame({'total_score':pf_ranking})"
   ]
  },
  {
   "cell_type": "markdown",
   "metadata": {
    "id": "xDFsW9haNxLh"
   },
   "source": [
    "**In the folowing code** : \n",
    "* Retrieve an array of property scores in descending order by index\n",
    "* Make a list converted to URIs by referring to a dictionary\n",
    "* Combine the ranking list of properties for all indexes (pf) in a multidimensional array, converted to a data frame\n",
    "\n"
   ]
  },
  {
   "cell_type": "code",
   "execution_count": 7,
   "metadata": {
    "executionInfo": {
     "elapsed": 591,
     "status": "ok",
     "timestamp": 1616503579774,
     "user": {
      "displayName": "Taro Aso",
      "photoUrl": "",
      "userId": "14621805940381040565"
     },
     "user_tz": -540
    },
    "id": "TEBjJw4kE1-i"
   },
   "outputs": [],
   "source": [
    "contents = []\n",
    "for indexes in np.argsort(-u3.T): #Converting positive and negative to descending order.\n",
    "  members = []\n",
    "  for index in indexes:\n",
    "    members.append(dict_prop[index])\n",
    "  contents.append(members)"
   ]
  },
  {
   "cell_type": "code",
   "execution_count": 17,
   "metadata": {},
   "outputs": [
    {
     "data": {
      "text/plain": [
       "['http://dbpedia.org/ontology/nationality',\n",
       " 'http://dbpedia.org/ontology/location',\n",
       " 'http://dbpedia.org/ontology/country',\n",
       " 'http://dbpedia.org/ontology/birthPlace',\n",
       " 'http://dbpedia.org/ontology/deathPlace',\n",
       " 'http://dbpedia.org/ontology/foundationPlace',\n",
       " 'http://dbpedia.org/ontology/regionServed',\n",
       " 'http://dbpedia.org/ontology/locationCity',\n",
       " 'http://dbpedia.org/ontology/industry',\n",
       " 'http://dbpedia.org/ontology/campus',\n",
       " 'http://dbpedia.org/ontology/stateOfOrigin',\n",
       " 'http://dbpedia.org/ontology/region',\n",
       " 'http://dbpedia.org/ontology/city',\n",
       " 'http://dbpedia.org/ontology/restingPlace',\n",
       " 'http://dbpedia.org/ontology/knownFor',\n",
       " 'http://www.w3.org/2000/01/rdf-schema#seeAlso',\n",
       " 'http://dbpedia.org/ontology/state',\n",
       " 'http://dbpedia.org/ontology/product',\n",
       " 'http://dbpedia.org/ontology/award',\n",
       " 'http://dbpedia.org/ontology/service',\n",
       " 'http://www.w3.org/2002/07/owl#differentFrom',\n",
       " 'http://dbpedia.org/ontology/party',\n",
       " 'http://dbpedia.org/ontology/occupation',\n",
       " 'http://dbpedia.org/ontology/influenced',\n",
       " 'http://dbpedia.org/ontology/division',\n",
       " 'http://dbpedia.org/ontology/language',\n",
       " 'http://dbpedia.org/ontology/influencedBy',\n",
       " 'http://dbpedia.org/ontology/headquarter',\n",
       " 'http://dbpedia.org/ontology/predecessor',\n",
       " 'http://dbpedia.org/ontology/almaMater',\n",
       " 'http://dbpedia.org/ontology/genre',\n",
       " 'http://dbpedia.org/ontology/hometown',\n",
       " 'http://dbpedia.org/ontology/chancellor',\n",
       " 'http://dbpedia.org/ontology/successor',\n",
       " 'http://dbpedia.org/ontology/religion',\n",
       " 'http://dbpedia.org/ontology/child',\n",
       " 'http://dbpedia.org/ontology/dean',\n",
       " 'http://dbpedia.org/ontology/otherParty',\n",
       " 'http://dbpedia.org/ontology/viceChancellor',\n",
       " 'http://dbpedia.org/ontology/appointer',\n",
       " 'http://dbpedia.org/ontology/doctoralAdvisor',\n",
       " 'http://dbpedia.org/ontology/academicAdvisor',\n",
       " 'http://dbpedia.org/ontology/notableStudent',\n",
       " 'http://dbpedia.org/ontology/education',\n",
       " 'http://dbpedia.org/ontology/deathCause',\n",
       " 'http://dbpedia.org/ontology/militaryRank',\n",
       " 'http://dbpedia.org/ontology/associate',\n",
       " 'http://dbpedia.org/ontology/mission',\n",
       " 'http://dbpedia.org/ontology/employer',\n",
       " 'http://dbpedia.org/ontology/parentOrganisation',\n",
       " 'http://dbpedia.org/ontology/deputy',\n",
       " 'http://dbpedia.org/ontology/provost',\n",
       " 'http://dbpedia.org/ontology/opponent',\n",
       " 'http://dbpedia.org/ontology/personFunction',\n",
       " 'http://dbpedia.org/ontology/vicePresident',\n",
       " 'http://dbpedia.org/ontology/lieutenant',\n",
       " 'http://dbpedia.org/ontology/officerInCharge',\n",
       " 'http://dbpedia.org/ontology/relative',\n",
       " 'http://dbpedia.org/ontology/runningMate',\n",
       " 'http://dbpedia.org/ontology/incumbent',\n",
       " 'http://dbpedia.org/ontology/parent',\n",
       " 'http://dbpedia.org/ontology/soundRecording',\n",
       " 'http://dbpedia.org/ontology/ethnicity',\n",
       " 'http://dbpedia.org/ontology/superintendent',\n",
       " 'http://dbpedia.org/ontology/nominee',\n",
       " 'http://dbpedia.org/ontology/leaderFunction',\n",
       " 'http://dbpedia.org/ontology/selection',\n",
       " 'http://dbpedia.org/ontology/partner',\n",
       " 'http://dbpedia.org/ontology/militaryUnit',\n",
       " 'http://dbpedia.org/ontology/governorGeneral',\n",
       " 'http://dbpedia.org/ontology/governor',\n",
       " 'http://dbpedia.org/ontology/monarch',\n",
       " 'http://dbpedia.org/ontology/doctoralStudent',\n",
       " 'http://dbpedia.org/ontology/athletics',\n",
       " 'http://xmlns.com/foaf/0.1/homepage',\n",
       " 'http://dbpedia.org/ontology/sport',\n",
       " 'http://dbpedia.org/ontology/spouse',\n",
       " 'http://dbpedia.org/ontology/director',\n",
       " 'http://dbpedia.org/ontology/militaryBranch',\n",
       " 'http://dbpedia.org/ontology/primeMinister',\n",
       " 'http://dbpedia.org/ontology/head',\n",
       " 'http://dbpedia.org/ontology/chairman',\n",
       " 'http://dbpedia.org/ontology/rector',\n",
       " 'http://dbpedia.org/ontology/president',\n",
       " 'http://dbpedia.org/ontology/profession',\n",
       " 'http://dbpedia.org/ontology/relation',\n",
       " 'http://dbpedia.org/ontology/battle',\n",
       " 'http://dbpedia.org/ontology/principal',\n",
       " 'http://dbpedia.org/ontology/subsidiary',\n",
       " 'http://dbpedia.org/ontology/field',\n",
       " 'http://dbpedia.org/ontology/foundedBy',\n",
       " 'http://dbpedia.org/ontology/affiliation',\n",
       " 'http://xmlns.com/foaf/0.1/depiction',\n",
       " 'http://dbpedia.org/ontology/parentCompany',\n",
       " 'http://dbpedia.org/ontology/owner',\n",
       " 'http://dbpedia.org/ontology/owningCompany',\n",
       " 'http://dbpedia.org/ontology/keyPerson',\n",
       " 'http://dbpedia.org/ontology/residence',\n",
       " 'http://dbpedia.org/ontology/citizenship',\n",
       " 'http://dbpedia.org/ontology/locationCountry',\n",
       " 'http://dbpedia.org/ontology/type']"
      ]
     },
     "execution_count": 17,
     "metadata": {},
     "output_type": "execute_result"
    }
   ],
   "source": [
    "contents[0]"
   ]
  },
  {
   "cell_type": "code",
   "execution_count": 12,
   "metadata": {
    "id": "3nhdn7RUDLGb"
   },
   "outputs": [],
   "source": [
    "df_contents = pd.DataFrame(contents)"
   ]
  },
  {
   "cell_type": "code",
   "execution_count": 13,
   "metadata": {
    "id": "NDlQd2huUmAs"
   },
   "outputs": [],
   "source": [
    "result = pd.concat([df, df_contents], axis=1)"
   ]
  },
  {
   "cell_type": "code",
   "execution_count": 14,
   "metadata": {
    "id": "py62HVBPVFih"
   },
   "outputs": [],
   "source": [
    "result.to_csv('./output/result_eep300.csv')"
   ]
  },
  {
   "cell_type": "code",
   "execution_count": null,
   "metadata": {
    "id": "1QgdMoYDVgLm"
   },
   "outputs": [],
   "source": []
  }
 ],
 "metadata": {
  "colab": {
   "authorship_tag": "ABX9TyMAG0JpmMv8NNT/oLozVw4r",
   "mount_file_id": "1_Ag-GMQznIJNGqm7QaGeh2HvrHBEwPhh",
   "name": "analysis_prop.ipynb",
   "provenance": []
  },
  "kernelspec": {
   "display_name": "Python 3 (ipykernel)",
   "language": "python",
   "name": "python3"
  },
  "language_info": {
   "codemirror_mode": {
    "name": "ipython",
    "version": 3
   },
   "file_extension": ".py",
   "mimetype": "text/x-python",
   "name": "python",
   "nbconvert_exporter": "python",
   "pygments_lexer": "ipython3",
   "version": "3.10.6"
  }
 },
 "nbformat": 4,
 "nbformat_minor": 1
}
