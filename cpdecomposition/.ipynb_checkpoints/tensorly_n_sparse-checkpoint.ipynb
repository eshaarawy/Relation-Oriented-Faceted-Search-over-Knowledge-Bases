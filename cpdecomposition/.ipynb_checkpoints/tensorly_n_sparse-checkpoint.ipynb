{
 "cells": [
  {
   "cell_type": "code",
   "execution_count": 2,
   "metadata": {
    "colab": {
     "base_uri": "https://localhost:8080/",
     "height": 187
    },
    "colab_type": "code",
    "executionInfo": {
     "elapsed": 6471,
     "status": "ok",
     "timestamp": 1588056481129,
     "user": {
      "displayName": "阿曽太郎",
      "photoUrl": "",
      "userId": "14621805940381040565"
     },
     "user_tz": -540
    },
    "id": "LbNQvjKPcDsj",
    "outputId": "a847516d-4e47-4f75-f181-a7a23b48e3df",
    "scrolled": true
   },
   "outputs": [
    {
     "name": "stdout",
     "output_type": "stream",
     "text": [
      "Defaulting to user installation because normal site-packages is not writeable\n",
      "Requirement already satisfied: sparse in /home/hugo/.local/lib/python3.10/site-packages (0.14.0)\n",
      "Requirement already satisfied: numba>=0.49 in /home/hugo/.local/lib/python3.10/site-packages (from sparse) (0.56.4)\n",
      "Requirement already satisfied: scipy>=0.19 in /home/hugo/.local/lib/python3.10/site-packages (from sparse) (1.10.1)\n",
      "Requirement already satisfied: numpy>=1.17 in /home/hugo/.local/lib/python3.10/site-packages (from sparse) (1.23.5)\n",
      "Requirement already satisfied: setuptools in /home/hugo/.local/lib/python3.10/site-packages (from numba>=0.49->sparse) (67.6.0)\n",
      "Requirement already satisfied: llvmlite<0.40,>=0.39.0dev0 in /home/hugo/.local/lib/python3.10/site-packages (from numba>=0.49->sparse) (0.39.1)\n"
     ]
    }
   ],
   "source": [
    "!pip install sparse"
   ]
  },
  {
   "cell_type": "code",
   "execution_count": 3,
   "metadata": {
    "colab": {
     "base_uri": "https://localhost:8080/",
     "height": 122
    },
    "colab_type": "code",
    "executionInfo": {
     "elapsed": 22231,
     "status": "ok",
     "timestamp": 1588056512695,
     "user": {
      "displayName": "阿曽太郎",
      "photoUrl": "",
      "userId": "14621805940381040565"
     },
     "user_tz": -540
    },
    "id": "AnH6AVaeERsz",
    "outputId": "64266607-d68d-4b8e-84cc-04e95ff09a26"
   },
   "outputs": [],
   "source": [
    "import pandas as pd\n",
    "import numpy as np\n",
    "import sparse\n",
    "#from google.colab import drive\n",
    "#drive.mount('/content/drive/')"
   ]
  },
  {
   "cell_type": "code",
   "execution_count": 4,
   "metadata": {
    "colab": {
     "base_uri": "https://localhost:8080/",
     "height": 204
    },
    "colab_type": "code",
    "executionInfo": {
     "elapsed": 2581,
     "status": "ok",
     "timestamp": 1588056520450,
     "user": {
      "displayName": "阿曽太郎",
      "photoUrl": "",
      "userId": "14621805940381040565"
     },
     "user_tz": -540
    },
    "id": "eMoS0YYNERtB",
    "outputId": "19fbbd11-9311-495f-885c-e43fbb0fba65"
   },
   "outputs": [
    {
     "data": {
      "text/html": [
       "<div>\n",
       "<style scoped>\n",
       "    .dataframe tbody tr th:only-of-type {\n",
       "        vertical-align: middle;\n",
       "    }\n",
       "\n",
       "    .dataframe tbody tr th {\n",
       "        vertical-align: top;\n",
       "    }\n",
       "\n",
       "    .dataframe thead th {\n",
       "        text-align: right;\n",
       "    }\n",
       "</style>\n",
       "<table border=\"1\" class=\"dataframe\">\n",
       "  <thead>\n",
       "    <tr style=\"text-align: right;\">\n",
       "      <th></th>\n",
       "      <th>subject</th>\n",
       "      <th>property</th>\n",
       "      <th>object</th>\n",
       "    </tr>\n",
       "  </thead>\n",
       "  <tbody>\n",
       "    <tr>\n",
       "      <th>0</th>\n",
       "      <td>http://dbpedia.org/resource/Saint_Thomas_Health</td>\n",
       "      <td>http://dbpedia.org/ontology/regionServed</td>\n",
       "      <td>http://dbpedia.org/resource/Middle_Tennessee</td>\n",
       "    </tr>\n",
       "    <tr>\n",
       "      <th>1</th>\n",
       "      <td>http://dbpedia.org/resource/Saint_Thomas_Health</td>\n",
       "      <td>http://dbpedia.org/ontology/regionServed</td>\n",
       "      <td>http://dbpedia.org/resource/South_Central_Kent...</td>\n",
       "    </tr>\n",
       "    <tr>\n",
       "      <th>2</th>\n",
       "      <td>http://dbpedia.org/resource/Saint_Thomas_Health</td>\n",
       "      <td>http://dbpedia.org/ontology/locationCountry</td>\n",
       "      <td>http://dbpedia.org/resource/United_States</td>\n",
       "    </tr>\n",
       "    <tr>\n",
       "      <th>3</th>\n",
       "      <td>http://dbpedia.org/resource/Pangea3</td>\n",
       "      <td>http://xmlns.com/foaf/0.1/homepage</td>\n",
       "      <td>http://www.pangea3.com</td>\n",
       "    </tr>\n",
       "    <tr>\n",
       "      <th>4</th>\n",
       "      <td>http://dbpedia.org/resource/Pangea3</td>\n",
       "      <td>http://dbpedia.org/ontology/foundationPlace</td>\n",
       "      <td>http://dbpedia.org/resource/United_States</td>\n",
       "    </tr>\n",
       "  </tbody>\n",
       "</table>\n",
       "</div>"
      ],
      "text/plain": [
       "                                           subject  \\\n",
       "0  http://dbpedia.org/resource/Saint_Thomas_Health   \n",
       "1  http://dbpedia.org/resource/Saint_Thomas_Health   \n",
       "2  http://dbpedia.org/resource/Saint_Thomas_Health   \n",
       "3              http://dbpedia.org/resource/Pangea3   \n",
       "4              http://dbpedia.org/resource/Pangea3   \n",
       "\n",
       "                                      property  \\\n",
       "0     http://dbpedia.org/ontology/regionServed   \n",
       "1     http://dbpedia.org/ontology/regionServed   \n",
       "2  http://dbpedia.org/ontology/locationCountry   \n",
       "3           http://xmlns.com/foaf/0.1/homepage   \n",
       "4  http://dbpedia.org/ontology/foundationPlace   \n",
       "\n",
       "                                              object  \n",
       "0       http://dbpedia.org/resource/Middle_Tennessee  \n",
       "1  http://dbpedia.org/resource/South_Central_Kent...  \n",
       "2          http://dbpedia.org/resource/United_States  \n",
       "3                             http://www.pangea3.com  \n",
       "4          http://dbpedia.org/resource/United_States  "
      ]
     },
     "execution_count": 4,
     "metadata": {},
     "output_type": "execute_result"
    }
   ],
   "source": [
    "#google driveのMy Drive内にあるinput.csvを選択\n",
    "#df = pd.read_csv('/content/drive/My Drive/cpdecomposition/input/triple.csv')\n",
    "df = pd.read_csv('./input/triple.csv')\n",
    "df.head()"
   ]
  },
  {
   "cell_type": "code",
   "execution_count": 5,
   "metadata": {
    "colab": {},
    "colab_type": "code",
    "id": "fkRFDLWCi38I"
   },
   "outputs": [],
   "source": [
    "#Triples with some properties are removed\n",
    "df = df[df['property'] != 'http://www.w3.org/2000/01/rdf-schema#seeAlso']\n",
    "df = df[df['property'] != 'http://www.w3.org/2002/07/owl#differentFrom']\n",
    "df = df[df['property'] != 'http://xmlns.com/foaf/0.1/depiction']\n",
    "df = df[df['property'] != 'http://xmlns.com/foaf/0.1/homepage']"
   ]
  },
  {
   "cell_type": "code",
   "execution_count": 6,
   "metadata": {
    "colab": {},
    "colab_type": "code",
    "id": "3s34n4g3ERtU"
   },
   "outputs": [],
   "source": [
    "#Extracting resources\n",
    "subjects = df['subject'].unique()\n",
    "objects = df['object'].unique()\n",
    "#Make a list of entities, properties\n",
    "entities = np.insert(subjects, 0, objects)\n",
    "entities = np.unique(entities)\n",
    "properties =df['property'].unique()"
   ]
  },
  {
   "cell_type": "code",
   "execution_count": 7,
   "metadata": {
    "colab": {},
    "colab_type": "code",
    "id": "gx11f2Ddh9Sy"
   },
   "outputs": [],
   "source": [
    "#Create index conversion dictionaries for entities, properties\n",
    "dict_ent = {}\n",
    "dict_prop = {}\n",
    "\n",
    "cnt = 0\n",
    "for i in entities:\n",
    "  dict_ent[i] = cnt\n",
    "  cnt = cnt + 1\n",
    "\n",
    "cnt = 0\n",
    "for k in properties:\n",
    "  dict_prop[k] = cnt \n",
    "  cnt = cnt + 1"
   ]
  },
  {
   "cell_type": "code",
   "execution_count": 21,
   "metadata": {
    "colab": {},
    "colab_type": "code",
    "id": "wNEa2v4diBPL"
   },
   "outputs": [
    {
     "ename": "TypeError",
     "evalue": "'list' object cannot be interpreted as an integer",
     "output_type": "error",
     "traceback": [
      "\u001b[0;31m---------------------------------------------------------------------------\u001b[0m",
      "\u001b[0;31mTypeError\u001b[0m                                 Traceback (most recent call last)",
      "Cell \u001b[0;32mIn[21], line 12\u001b[0m\n\u001b[1;32m      9\u001b[0m   m3\u001b[38;5;241m.\u001b[39mappend(dict_prop[p])\n\u001b[1;32m     10\u001b[0m coords \u001b[38;5;241m=\u001b[39m np\u001b[38;5;241m.\u001b[39marray([m1, m2, m3], dtype\u001b[38;5;241m=\u001b[39mnp\u001b[38;5;241m.\u001b[39mfloat64)\n\u001b[0;32m---> 12\u001b[0m data \u001b[38;5;241m=\u001b[39m \u001b[43mnp\u001b[49m\u001b[38;5;241;43m.\u001b[39;49m\u001b[43mones\u001b[49m\u001b[43m(\u001b[49m\u001b[43m(\u001b[49m\u001b[43mm1\u001b[49m\u001b[43m,\u001b[49m\u001b[43m \u001b[49m\u001b[43mm2\u001b[49m\u001b[43m,\u001b[49m\u001b[43m \u001b[49m\u001b[43mm3\u001b[49m\u001b[43m)\u001b[49m\u001b[43m,\u001b[49m\u001b[43m \u001b[49m\u001b[43mdtype\u001b[49m\u001b[38;5;241;43m=\u001b[39;49m\u001b[43mnp\u001b[49m\u001b[38;5;241;43m.\u001b[39;49m\u001b[43mfloat64\u001b[49m\u001b[43m)\u001b[49m\n\u001b[1;32m     14\u001b[0m shape \u001b[38;5;241m=\u001b[39m (\u001b[38;5;28mlen\u001b[39m(entities), \u001b[38;5;28mlen\u001b[39m(entities), \u001b[38;5;28mlen\u001b[39m(properties))\n",
      "File \u001b[0;32m~/.local/lib/python3.10/site-packages/numpy/core/numeric.py:204\u001b[0m, in \u001b[0;36mones\u001b[0;34m(shape, dtype, order, like)\u001b[0m\n\u001b[1;32m    201\u001b[0m \u001b[38;5;28;01mif\u001b[39;00m like \u001b[38;5;129;01mis\u001b[39;00m \u001b[38;5;129;01mnot\u001b[39;00m \u001b[38;5;28;01mNone\u001b[39;00m:\n\u001b[1;32m    202\u001b[0m     \u001b[38;5;28;01mreturn\u001b[39;00m _ones_with_like(shape, dtype\u001b[38;5;241m=\u001b[39mdtype, order\u001b[38;5;241m=\u001b[39morder, like\u001b[38;5;241m=\u001b[39mlike)\n\u001b[0;32m--> 204\u001b[0m a \u001b[38;5;241m=\u001b[39m \u001b[43mempty\u001b[49m\u001b[43m(\u001b[49m\u001b[43mshape\u001b[49m\u001b[43m,\u001b[49m\u001b[43m \u001b[49m\u001b[43mdtype\u001b[49m\u001b[43m,\u001b[49m\u001b[43m \u001b[49m\u001b[43morder\u001b[49m\u001b[43m)\u001b[49m\n\u001b[1;32m    205\u001b[0m multiarray\u001b[38;5;241m.\u001b[39mcopyto(a, \u001b[38;5;241m1\u001b[39m, casting\u001b[38;5;241m=\u001b[39m\u001b[38;5;124m'\u001b[39m\u001b[38;5;124munsafe\u001b[39m\u001b[38;5;124m'\u001b[39m)\n\u001b[1;32m    206\u001b[0m \u001b[38;5;28;01mreturn\u001b[39;00m a\n",
      "\u001b[0;31mTypeError\u001b[0m: 'list' object cannot be interpreted as an integer"
     ]
    }
   ],
   "source": [
    "#Create sparse.COO(coords, data, shape) parameters\n",
    "m1 = []\n",
    "m2 = []\n",
    "m3 = []\n",
    "for triple in df.values:\n",
    "  s, p, o = triple[0], triple[1], triple[2]\n",
    "  m1.append(dict_ent[s])\n",
    "  m2.append(dict_ent[o])\n",
    "  m3.append(dict_prop[p])\n",
    "coords = np.array([m1, m2, m3], dtype=np.float64)\n",
    "\n",
    "data = 1.0\n",
    "\n",
    "shape = [len(entities), len(entities), len(properties)]"
   ]
  },
  {
   "cell_type": "code",
   "execution_count": 19,
   "metadata": {
    "colab": {},
    "colab_type": "code",
    "id": "2SFfgSBIpm26"
   },
   "outputs": [
    {
     "name": "stdout",
     "output_type": "stream",
     "text": [
      "[[1.91839e+05 1.91839e+05 1.91839e+05 ... 1.91839e+05 1.91839e+05\n",
      "  1.91839e+05]\n",
      " [1.44874e+05 2.03248e+05 2.25141e+05 ... 1.52508e+05 1.52508e+05\n",
      "  9.21920e+04]\n",
      " [0.00000e+00 0.00000e+00 1.00000e+00 ... 2.00000e+00 3.00000e+00\n",
      "  6.00000e+00]]\n",
      "1.0\n",
      "(247117, 247117, 97)\n"
     ]
    },
    {
     "ename": "TypeError",
     "evalue": "only int indices permitted",
     "output_type": "error",
     "traceback": [
      "\u001b[0;31m---------------------------------------------------------------------------\u001b[0m",
      "\u001b[0;31mTypeError\u001b[0m                                 Traceback (most recent call last)",
      "Cell \u001b[0;32mIn[19], line 4\u001b[0m\n\u001b[1;32m      2\u001b[0m \u001b[38;5;28mprint\u001b[39m(data)\n\u001b[1;32m      3\u001b[0m \u001b[38;5;28mprint\u001b[39m(shape)\n\u001b[0;32m----> 4\u001b[0m tensor \u001b[38;5;241m=\u001b[39m \u001b[43msparse\u001b[49m\u001b[38;5;241;43m.\u001b[39;49m\u001b[43mCOO\u001b[49m\u001b[43m(\u001b[49m\u001b[43mcoords\u001b[49m\u001b[43m,\u001b[49m\u001b[43m \u001b[49m\u001b[43mdata\u001b[49m\u001b[43m,\u001b[49m\u001b[43m \u001b[49m\u001b[43mshape\u001b[49m\u001b[43m)\u001b[49m\n",
      "File \u001b[0;32m~/.local/lib/python3.10/site-packages/sparse/_coo/core.py:307\u001b[0m, in \u001b[0;36mCOO.__init__\u001b[0;34m(self, coords, data, shape, has_duplicates, sorted, prune, cache, fill_value, idx_dtype)\u001b[0m\n\u001b[1;32m    299\u001b[0m     warnings\u001b[38;5;241m.\u001b[39mwarn(\n\u001b[1;32m    300\u001b[0m         \u001b[38;5;124m\"\u001b[39m\u001b[38;5;124mAttempting to create a sparse array that takes no less \u001b[39m\u001b[38;5;124m\"\u001b[39m\n\u001b[1;32m    301\u001b[0m         \u001b[38;5;124m\"\u001b[39m\u001b[38;5;124mmemory than than an equivalent dense array. You may want to \u001b[39m\u001b[38;5;124m\"\u001b[39m\n\u001b[1;32m    302\u001b[0m         \u001b[38;5;124m\"\u001b[39m\u001b[38;5;124muse a dense array here instead.\u001b[39m\u001b[38;5;124m\"\u001b[39m,\n\u001b[1;32m    303\u001b[0m         \u001b[38;5;167;01mRuntimeWarning\u001b[39;00m,\n\u001b[1;32m    304\u001b[0m     )\n\u001b[1;32m    306\u001b[0m \u001b[38;5;28;01mif\u001b[39;00m \u001b[38;5;129;01mnot\u001b[39;00m \u001b[38;5;28msorted\u001b[39m:\n\u001b[0;32m--> 307\u001b[0m     \u001b[38;5;28;43mself\u001b[39;49m\u001b[38;5;241;43m.\u001b[39;49m\u001b[43m_sort_indices\u001b[49m\u001b[43m(\u001b[49m\u001b[43m)\u001b[49m\n\u001b[1;32m    309\u001b[0m \u001b[38;5;28;01mif\u001b[39;00m has_duplicates:\n\u001b[1;32m    310\u001b[0m     \u001b[38;5;28mself\u001b[39m\u001b[38;5;241m.\u001b[39m_sum_duplicates()\n",
      "File \u001b[0;32m~/.local/lib/python3.10/site-packages/sparse/_coo/core.py:1278\u001b[0m, in \u001b[0;36mCOO._sort_indices\u001b[0;34m(self)\u001b[0m\n\u001b[1;32m   1262\u001b[0m \u001b[38;5;28;01mdef\u001b[39;00m \u001b[38;5;21m_sort_indices\u001b[39m(\u001b[38;5;28mself\u001b[39m):\n\u001b[1;32m   1263\u001b[0m \u001b[38;5;250m    \u001b[39m\u001b[38;5;124;03m\"\"\"\u001b[39;00m\n\u001b[1;32m   1264\u001b[0m \u001b[38;5;124;03m    Sorts the :obj:`COO.coords` attribute. Also sorts the data in\u001b[39;00m\n\u001b[1;32m   1265\u001b[0m \u001b[38;5;124;03m    :obj:`COO.data` to match.\u001b[39;00m\n\u001b[0;32m   (...)\u001b[0m\n\u001b[1;32m   1276\u001b[0m \u001b[38;5;124;03m    array([3, 4, 1], dtype=uint8)\u001b[39;00m\n\u001b[1;32m   1277\u001b[0m \u001b[38;5;124;03m    \"\"\"\u001b[39;00m\n\u001b[0;32m-> 1278\u001b[0m     linear \u001b[38;5;241m=\u001b[39m \u001b[38;5;28;43mself\u001b[39;49m\u001b[38;5;241;43m.\u001b[39;49m\u001b[43mlinear_loc\u001b[49m\u001b[43m(\u001b[49m\u001b[43m)\u001b[49m\n\u001b[1;32m   1280\u001b[0m     \u001b[38;5;28;01mif\u001b[39;00m (np\u001b[38;5;241m.\u001b[39mdiff(linear) \u001b[38;5;241m>\u001b[39m\u001b[38;5;241m=\u001b[39m \u001b[38;5;241m0\u001b[39m)\u001b[38;5;241m.\u001b[39mall():  \u001b[38;5;66;03m# already sorted\u001b[39;00m\n\u001b[1;32m   1281\u001b[0m         \u001b[38;5;28;01mreturn\u001b[39;00m\n",
      "File \u001b[0;32m~/.local/lib/python3.10/site-packages/sparse/_coo/core.py:974\u001b[0m, in \u001b[0;36mCOO.linear_loc\u001b[0;34m(self)\u001b[0m\n\u001b[1;32m    950\u001b[0m \u001b[38;5;250m\u001b[39m\u001b[38;5;124;03m\"\"\"\u001b[39;00m\n\u001b[1;32m    951\u001b[0m \u001b[38;5;124;03mThe nonzero coordinates of a flattened version of this array. Note that\u001b[39;00m\n\u001b[1;32m    952\u001b[0m \u001b[38;5;124;03mthe coordinates may be out of order.\u001b[39;00m\n\u001b[0;32m   (...)\u001b[0m\n\u001b[1;32m    970\u001b[0m \u001b[38;5;124;03mTrue\u001b[39;00m\n\u001b[1;32m    971\u001b[0m \u001b[38;5;124;03m\"\"\"\u001b[39;00m\n\u001b[1;32m    972\u001b[0m \u001b[38;5;28;01mfrom\u001b[39;00m \u001b[38;5;21;01m.\u001b[39;00m\u001b[38;5;21;01mcommon\u001b[39;00m \u001b[38;5;28;01mimport\u001b[39;00m linear_loc\n\u001b[0;32m--> 974\u001b[0m \u001b[38;5;28;01mreturn\u001b[39;00m \u001b[43mlinear_loc\u001b[49m\u001b[43m(\u001b[49m\u001b[38;5;28;43mself\u001b[39;49m\u001b[38;5;241;43m.\u001b[39;49m\u001b[43mcoords\u001b[49m\u001b[43m,\u001b[49m\u001b[43m \u001b[49m\u001b[38;5;28;43mself\u001b[39;49m\u001b[38;5;241;43m.\u001b[39;49m\u001b[43mshape\u001b[49m\u001b[43m)\u001b[49m\n",
      "File \u001b[0;32m~/.local/lib/python3.10/site-packages/sparse/_coo/common.py:65\u001b[0m, in \u001b[0;36mlinear_loc\u001b[0;34m(coords, shape)\u001b[0m\n\u001b[1;32m     63\u001b[0m     \u001b[38;5;28;01mreturn\u001b[39;00m np\u001b[38;5;241m.\u001b[39mzeros(coords\u001b[38;5;241m.\u001b[39mshape[\u001b[38;5;241m1\u001b[39m:], dtype\u001b[38;5;241m=\u001b[39mnp\u001b[38;5;241m.\u001b[39mintp)\n\u001b[1;32m     64\u001b[0m \u001b[38;5;28;01melse\u001b[39;00m:\n\u001b[0;32m---> 65\u001b[0m     \u001b[38;5;28;01mreturn\u001b[39;00m \u001b[43mnp\u001b[49m\u001b[38;5;241;43m.\u001b[39;49m\u001b[43mravel_multi_index\u001b[49m\u001b[43m(\u001b[49m\u001b[43mcoords\u001b[49m\u001b[43m,\u001b[49m\u001b[43m \u001b[49m\u001b[43mshape\u001b[49m\u001b[43m)\u001b[49m\n",
      "File \u001b[0;32m<__array_function__ internals>:180\u001b[0m, in \u001b[0;36mravel_multi_index\u001b[0;34m(*args, **kwargs)\u001b[0m\n",
      "\u001b[0;31mTypeError\u001b[0m: only int indices permitted"
     ]
    }
   ],
   "source": [
    "print(coords)\n",
    "print(data)\n",
    "print(shape)\n",
    "tensor = sparse.COO(coords, data, shape)"
   ]
  },
  {
   "cell_type": "code",
   "execution_count": 10,
   "metadata": {
    "colab": {
     "base_uri": "https://localhost:8080/",
     "height": 187
    },
    "colab_type": "code",
    "executionInfo": {
     "elapsed": 882,
     "status": "ok",
     "timestamp": 1588056617977,
     "user": {
      "displayName": "阿曽太郎",
      "photoUrl": "",
      "userId": "14621805940381040565"
     },
     "user_tz": -540
    },
    "id": "P3V4f-gmesVW",
    "outputId": "13e0c1e8-bd6d-4436-acaf-005141d2d4fd"
   },
   "outputs": [
    {
     "ename": "NameError",
     "evalue": "name 'tensor' is not defined",
     "output_type": "error",
     "traceback": [
      "\u001b[0;31m---------------------------------------------------------------------------\u001b[0m",
      "\u001b[0;31mNameError\u001b[0m                                 Traceback (most recent call last)",
      "Cell \u001b[0;32mIn[10], line 1\u001b[0m\n\u001b[0;32m----> 1\u001b[0m \u001b[43mtensor\u001b[49m\n",
      "\u001b[0;31mNameError\u001b[0m: name 'tensor' is not defined"
     ]
    }
   ],
   "source": [
    "tensor"
   ]
  },
  {
   "cell_type": "code",
   "execution_count": 16,
   "metadata": {
    "colab": {
     "base_uri": "https://localhost:8080/",
     "height": 272
    },
    "colab_type": "code",
    "executionInfo": {
     "elapsed": 5553,
     "status": "ok",
     "timestamp": 1588056642792,
     "user": {
      "displayName": "阿曽太郎",
      "photoUrl": "",
      "userId": "14621805940381040565"
     },
     "user_tz": -540
    },
    "id": "WSkw5QejrBDU",
    "outputId": "7e8be849-ffb5-47df-df35-3e1749837554",
    "scrolled": true
   },
   "outputs": [
    {
     "name": "stdout",
     "output_type": "stream",
     "text": [
      "Defaulting to user installation because normal site-packages is not writeable\n",
      "Collecting tensorly\n",
      "  Downloading tensorly-0.8.1-py3-none-any.whl (229 kB)\n",
      "\u001b[2K     \u001b[38;2;114;156;31m━━━━━━━━━━━━━━━━━━━━━━━━━━━━━━━━━━━━━\u001b[0m \u001b[32m229.7/229.7 kB\u001b[0m \u001b[31m936.7 kB/s\u001b[0m eta \u001b[36m0:00:00\u001b[0m1m933.1 kB/s\u001b[0m eta \u001b[36m0:00:01\u001b[0m\n",
      "\u001b[?25hRequirement already satisfied: numpy in /home/hugo/.local/lib/python3.10/site-packages (from tensorly) (1.23.5)\n",
      "Requirement already satisfied: scipy in /home/hugo/.local/lib/python3.10/site-packages (from tensorly) (1.10.1)\n",
      "Installing collected packages: tensorly\n",
      "Successfully installed tensorly-0.8.1\n"
     ]
    }
   ],
   "source": [
    "!pip install tensorly"
   ]
  },
  {
   "cell_type": "code",
   "execution_count": 0,
   "metadata": {
    "colab": {
     "base_uri": "https://localhost:8080/",
     "height": 34
    },
    "colab_type": "code",
    "executionInfo": {
     "elapsed": 626,
     "status": "ok",
     "timestamp": 1588056647536,
     "user": {
      "displayName": "阿曽太郎",
      "photoUrl": "",
      "userId": "14621805940381040565"
     },
     "user_tz": -540
    },
    "id": "CAFwlx6PrH6T",
    "outputId": "9f73164b-f4b9-4c67-bbb6-756f9e5a4374"
   },
   "outputs": [
    {
     "data": {
      "text/plain": [
       "'numpy'"
      ]
     },
     "execution_count": 11,
     "metadata": {
      "tags": []
     },
     "output_type": "execute_result"
    }
   ],
   "source": [
    "import tensorly as tl\n",
    "#from tensorly.contrib.sparse import tensor, unfold\n",
    "from tensorly.contrib.sparse.decomposition import parafac \n",
    "tl.get_backend()"
   ]
  },
  {
   "cell_type": "code",
   "execution_count": 0,
   "metadata": {
    "colab": {},
    "colab_type": "code",
    "id": "aCuiPmmosj3i"
   },
   "outputs": [],
   "source": [
    "import time"
   ]
  },
  {
   "cell_type": "code",
   "execution_count": 0,
   "metadata": {
    "colab": {},
    "colab_type": "code",
    "id": "HTRUsxO1t4db"
   },
   "outputs": [],
   "source": [
    "start_time = time.time()\n",
    "\n",
    "factors = parafac(tensor, rank=5)\n",
    "\n",
    "end_time = time.time()\n",
    "total_time = end_time - start_time\n",
    "print('Took %d mins %d secs' % (divmod(total_time, 60)))"
   ]
  },
  {
   "cell_type": "code",
   "execution_count": 0,
   "metadata": {
    "colab": {},
    "colab_type": "code",
    "id": "3ExUvhoSxCfg"
   },
   "outputs": [],
   "source": []
  }
 ],
 "metadata": {
  "colab": {
   "collapsed_sections": [],
   "machine_shape": "hm",
   "name": "tensorly_n_sparse.ipynb",
   "provenance": []
  },
  "kernelspec": {
   "display_name": "Python 3 (ipykernel)",
   "language": "python",
   "name": "python3"
  },
  "language_info": {
   "codemirror_mode": {
    "name": "ipython",
    "version": 3
   },
   "file_extension": ".py",
   "mimetype": "text/x-python",
   "name": "python",
   "nbconvert_exporter": "python",
   "pygments_lexer": "ipython3",
   "version": "3.10.6"
  }
 },
 "nbformat": 4,
 "nbformat_minor": 1
}
