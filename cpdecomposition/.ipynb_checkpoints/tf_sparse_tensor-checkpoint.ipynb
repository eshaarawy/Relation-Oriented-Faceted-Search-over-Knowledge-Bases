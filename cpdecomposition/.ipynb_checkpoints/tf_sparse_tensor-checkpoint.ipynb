{
 "cells": [
  {
   "cell_type": "code",
   "execution_count": 21,
   "metadata": {
    "colab": {
     "base_uri": "https://localhost:8080/",
     "height": 122
    },
    "colab_type": "code",
    "executionInfo": {
     "elapsed": 27379,
     "status": "ok",
     "timestamp": 1587971989683,
     "user": {
      "displayName": "阿曽太郎",
      "photoUrl": "",
      "userId": "14621805940381040565"
     },
     "user_tz": -540
    },
    "id": "AnH6AVaeERsz",
    "outputId": "813809ed-0fe8-43e6-d783-6a031f6154cd"
   },
   "outputs": [],
   "source": [
    "import pandas as pd\n",
    "import tensorflow as tf\n",
    "#from google.colab import drive\n",
    "#drive.mount('/content/drive/')"
   ]
  },
  {
   "cell_type": "code",
   "execution_count": 22,
   "metadata": {
    "colab": {},
    "colab_type": "code",
    "id": "eMoS0YYNERtB"
   },
   "outputs": [],
   "source": [
    "#Select 'input.csv' in My Drive in google drive\n",
    "#df = pd.read_csv('/content/drive/My Drive/cpdecomposition/input/triple.csv')\n",
    "df = pd.read_csv('./input/triple.csv')"
   ]
  },
  {
   "cell_type": "code",
   "execution_count": 23,
   "metadata": {
    "colab": {},
    "colab_type": "code",
    "id": "6DG2fficoUiZ"
   },
   "outputs": [],
   "source": [
    "#http://www.w3.org/2000/01/rdf-schema#seeAlso, http://www.w3.org/2002/07/owl#differentFrom, http://xmlns.com/foaf/0.1/depiction, http://xmlns.com/foaf/0.1/homepage を除く\n",
    "#df = df[df['property'] != 'http://www.w3.org/2000/01/rdf-schema#seeAlso']\n",
    "#df = df[df['property'] != 'http://www.w3.org/2002/07/owl#differentFrom']\n",
    "#df = df[df['property'] != 'http://xmlns.com/foaf/0.1/depiction']\n",
    "#df = df[df['property'] != 'http://xmlns.com/foaf/0.1/homepage']\n",
    "gdf = df.groupby('property')"
   ]
  },
  {
   "cell_type": "code",
   "execution_count": 24,
   "metadata": {
    "colab": {},
    "colab_type": "code",
    "id": "T5fcv95_tYta"
   },
   "outputs": [],
   "source": [
    "import math\n",
    "s_gdf = gdf.apply(lambda x: x.sample(n=math.ceil(len(x) * 0.1), random_state=42))"
   ]
  },
  {
   "cell_type": "code",
   "execution_count": 25,
   "metadata": {
    "colab": {
     "base_uri": "https://localhost:8080/",
     "height": 419
    },
    "colab_type": "code",
    "executionInfo": {
     "elapsed": 602,
     "status": "ok",
     "timestamp": 1587451110187,
     "user": {
      "displayName": "阿曽太郎",
      "photoUrl": "",
      "userId": "14621805940381040565"
     },
     "user_tz": -540
    },
    "id": "A5_t59R7um07",
    "outputId": "c46fd1fe-9416-4bfa-b9b3-d58c941d0768"
   },
   "outputs": [
    {
     "data": {
      "text/html": [
       "<div>\n",
       "<style scoped>\n",
       "    .dataframe tbody tr th:only-of-type {\n",
       "        vertical-align: middle;\n",
       "    }\n",
       "\n",
       "    .dataframe tbody tr th {\n",
       "        vertical-align: top;\n",
       "    }\n",
       "\n",
       "    .dataframe thead th {\n",
       "        text-align: right;\n",
       "    }\n",
       "</style>\n",
       "<table border=\"1\" class=\"dataframe\">\n",
       "  <thead>\n",
       "    <tr style=\"text-align: right;\">\n",
       "      <th></th>\n",
       "      <th>subject</th>\n",
       "      <th>property</th>\n",
       "      <th>object</th>\n",
       "    </tr>\n",
       "  </thead>\n",
       "  <tbody>\n",
       "    <tr>\n",
       "      <th>0</th>\n",
       "      <td>http://dbpedia.org/resource/Johann_Friedrich_B...</td>\n",
       "      <td>http://dbpedia.org/ontology/academicAdvisor</td>\n",
       "      <td>http://dbpedia.org/resource/Ernst_Gottfried_Ba...</td>\n",
       "    </tr>\n",
       "    <tr>\n",
       "      <th>1</th>\n",
       "      <td>http://dbpedia.org/resource/Jeffrey_Karp</td>\n",
       "      <td>http://dbpedia.org/ontology/academicAdvisor</td>\n",
       "      <td>http://dbpedia.org/resource/Robert_S._Langer</td>\n",
       "    </tr>\n",
       "    <tr>\n",
       "      <th>2</th>\n",
       "      <td>http://dbpedia.org/resource/Viviana_Zelizer</td>\n",
       "      <td>http://dbpedia.org/ontology/academicAdvisor</td>\n",
       "      <td>http://dbpedia.org/resource/Bernard_Barber</td>\n",
       "    </tr>\n",
       "    <tr>\n",
       "      <th>3</th>\n",
       "      <td>http://dbpedia.org/resource/Ulrich_von_Wilamow...</td>\n",
       "      <td>http://dbpedia.org/ontology/academicAdvisor</td>\n",
       "      <td>http://dbpedia.org/resource/Anton_Springer</td>\n",
       "    </tr>\n",
       "    <tr>\n",
       "      <th>4</th>\n",
       "      <td>http://dbpedia.org/resource/Wendell_Lim</td>\n",
       "      <td>http://dbpedia.org/ontology/academicAdvisor</td>\n",
       "      <td>http://dbpedia.org/resource/Frederic_M._Richards</td>\n",
       "    </tr>\n",
       "    <tr>\n",
       "      <th>...</th>\n",
       "      <td>...</td>\n",
       "      <td>...</td>\n",
       "      <td>...</td>\n",
       "    </tr>\n",
       "    <tr>\n",
       "      <th>72012</th>\n",
       "      <td>http://dbpedia.org/resource/Fukuyama_City_Univ...</td>\n",
       "      <td>http://xmlns.com/foaf/0.1/homepage</td>\n",
       "      <td>http://www.fcu.ac.jp/</td>\n",
       "    </tr>\n",
       "    <tr>\n",
       "      <th>72013</th>\n",
       "      <td>http://dbpedia.org/resource/Wilson_&amp;_Miller</td>\n",
       "      <td>http://xmlns.com/foaf/0.1/homepage</td>\n",
       "      <td>http://wilsonandmiller.com/</td>\n",
       "    </tr>\n",
       "    <tr>\n",
       "      <th>72014</th>\n",
       "      <td>http://dbpedia.org/resource/Lincare_Holdings</td>\n",
       "      <td>http://xmlns.com/foaf/0.1/homepage</td>\n",
       "      <td>http://www.lincare.com/</td>\n",
       "    </tr>\n",
       "    <tr>\n",
       "      <th>72015</th>\n",
       "      <td>http://dbpedia.org/resource/Centegra_Health_Sy...</td>\n",
       "      <td>http://xmlns.com/foaf/0.1/homepage</td>\n",
       "      <td>http://centegra.org/</td>\n",
       "    </tr>\n",
       "    <tr>\n",
       "      <th>72016</th>\n",
       "      <td>http://dbpedia.org/resource/De_Montfort_Univer...</td>\n",
       "      <td>http://xmlns.com/foaf/0.1/homepage</td>\n",
       "      <td>http://www.dmu.ac.uk</td>\n",
       "    </tr>\n",
       "  </tbody>\n",
       "</table>\n",
       "<p>72017 rows × 3 columns</p>\n",
       "</div>"
      ],
      "text/plain": [
       "                                                 subject  \\\n",
       "0      http://dbpedia.org/resource/Johann_Friedrich_B...   \n",
       "1               http://dbpedia.org/resource/Jeffrey_Karp   \n",
       "2            http://dbpedia.org/resource/Viviana_Zelizer   \n",
       "3      http://dbpedia.org/resource/Ulrich_von_Wilamow...   \n",
       "4                http://dbpedia.org/resource/Wendell_Lim   \n",
       "...                                                  ...   \n",
       "72012  http://dbpedia.org/resource/Fukuyama_City_Univ...   \n",
       "72013        http://dbpedia.org/resource/Wilson_&_Miller   \n",
       "72014       http://dbpedia.org/resource/Lincare_Holdings   \n",
       "72015  http://dbpedia.org/resource/Centegra_Health_Sy...   \n",
       "72016  http://dbpedia.org/resource/De_Montfort_Univer...   \n",
       "\n",
       "                                          property  \\\n",
       "0      http://dbpedia.org/ontology/academicAdvisor   \n",
       "1      http://dbpedia.org/ontology/academicAdvisor   \n",
       "2      http://dbpedia.org/ontology/academicAdvisor   \n",
       "3      http://dbpedia.org/ontology/academicAdvisor   \n",
       "4      http://dbpedia.org/ontology/academicAdvisor   \n",
       "...                                            ...   \n",
       "72012           http://xmlns.com/foaf/0.1/homepage   \n",
       "72013           http://xmlns.com/foaf/0.1/homepage   \n",
       "72014           http://xmlns.com/foaf/0.1/homepage   \n",
       "72015           http://xmlns.com/foaf/0.1/homepage   \n",
       "72016           http://xmlns.com/foaf/0.1/homepage   \n",
       "\n",
       "                                                  object  \n",
       "0      http://dbpedia.org/resource/Ernst_Gottfried_Ba...  \n",
       "1           http://dbpedia.org/resource/Robert_S._Langer  \n",
       "2             http://dbpedia.org/resource/Bernard_Barber  \n",
       "3             http://dbpedia.org/resource/Anton_Springer  \n",
       "4       http://dbpedia.org/resource/Frederic_M._Richards  \n",
       "...                                                  ...  \n",
       "72012                              http://www.fcu.ac.jp/  \n",
       "72013                        http://wilsonandmiller.com/  \n",
       "72014                            http://www.lincare.com/  \n",
       "72015                               http://centegra.org/  \n",
       "72016                               http://www.dmu.ac.uk  \n",
       "\n",
       "[72017 rows x 3 columns]"
      ]
     },
     "execution_count": 25,
     "metadata": {},
     "output_type": "execute_result"
    }
   ],
   "source": [
    "s_gdf = s_gdf.reset_index(drop=True)\n",
    "s_gdf"
   ]
  },
  {
   "cell_type": "code",
   "execution_count": 26,
   "metadata": {
    "colab": {
     "base_uri": "https://localhost:8080/",
     "height": 238
    },
    "colab_type": "code",
    "executionInfo": {
     "elapsed": 639,
     "status": "ok",
     "timestamp": 1587451115818,
     "user": {
      "displayName": "阿曽太郎",
      "photoUrl": "",
      "userId": "14621805940381040565"
     },
     "user_tz": -540
    },
    "id": "sxqKyu3f1TXX",
    "outputId": "6dfd773e-71d8-445c-a095-576fcb07a984"
   },
   "outputs": [
    {
     "data": {
      "text/plain": [
       "property\n",
       "http://dbpedia.org/ontology/academicAdvisor      135\n",
       "http://dbpedia.org/ontology/affiliation         1483\n",
       "http://dbpedia.org/ontology/almaMater           3134\n",
       "http://dbpedia.org/ontology/appointer              6\n",
       "http://dbpedia.org/ontology/associate             50\n",
       "                                                ... \n",
       "http://dbpedia.org/ontology/vicePresident          7\n",
       "http://www.w3.org/2000/01/rdf-schema#seeAlso     247\n",
       "http://www.w3.org/2002/07/owl#differentFrom      191\n",
       "http://xmlns.com/foaf/0.1/depiction               13\n",
       "http://xmlns.com/foaf/0.1/homepage              6429\n",
       "Length: 101, dtype: int64"
      ]
     },
     "execution_count": 26,
     "metadata": {},
     "output_type": "execute_result"
    }
   ],
   "source": [
    "s_gdf.groupby('property').size()"
   ]
  },
  {
   "cell_type": "code",
   "execution_count": 27,
   "metadata": {
    "colab": {},
    "colab_type": "code",
    "id": "CByg-Qz3otF5"
   },
   "outputs": [],
   "source": [
    "import numpy as np"
   ]
  },
  {
   "cell_type": "code",
   "execution_count": 28,
   "metadata": {
    "colab": {},
    "colab_type": "code",
    "id": "NPA3EdXfERtE"
   },
   "outputs": [],
   "source": [
    "subjects = s_gdf['subject'].unique()\n",
    "objects = s_gdf['object'].unique()\n",
    "properties =s_gdf['property'].unique()"
   ]
  },
  {
   "cell_type": "code",
   "execution_count": 29,
   "metadata": {
    "colab": {
     "base_uri": "https://localhost:8080/",
     "height": 153
    },
    "colab_type": "code",
    "executionInfo": {
     "elapsed": 1020,
     "status": "ok",
     "timestamp": 1587451142133,
     "user": {
      "displayName": "阿曽太郎",
      "photoUrl": "",
      "userId": "14621805940381040565"
     },
     "user_tz": -540
    },
    "id": "6bzEE11_ERtL",
    "outputId": "e423e645-796f-40d6-c774-575b592ca4a2"
   },
   "outputs": [
    {
     "name": "stdout",
     "output_type": "stream",
     "text": [
      "51263 33993 101\n"
     ]
    },
    {
     "data": {
      "text/plain": [
       "array(['http://dbpedia.org/resource/Johann_Friedrich_Blumenbach',\n",
       "       'http://dbpedia.org/resource/Jeffrey_Karp',\n",
       "       'http://dbpedia.org/resource/Viviana_Zelizer', ...,\n",
       "       'http://dbpedia.org/resource/Wilson_&_Miller',\n",
       "       'http://dbpedia.org/resource/Lincare_Holdings',\n",
       "       'http://dbpedia.org/resource/Centegra_Health_System'], dtype=object)"
      ]
     },
     "execution_count": 29,
     "metadata": {},
     "output_type": "execute_result"
    }
   ],
   "source": [
    "entities = np.insert(subjects, 0, objects)\n",
    "entities = np.unique(entities)\n",
    "k = len(subjects)\n",
    "l = len(objects)\n",
    "m = len(properties)\n",
    "print(k, l, m)\n",
    "subjects"
   ]
  },
  {
   "cell_type": "code",
   "execution_count": 30,
   "metadata": {
    "colab": {},
    "colab_type": "code",
    "id": "D4AVaPUUwHoM"
   },
   "outputs": [],
   "source": [
    "import torch"
   ]
  },
  {
   "cell_type": "code",
   "execution_count": 31,
   "metadata": {
    "colab": {},
    "colab_type": "code",
    "id": "Z2BaQJB5JKfb"
   },
   "outputs": [],
   "source": [
    "#tensor = torch.zeros(n, n, m)"
   ]
  },
  {
   "cell_type": "code",
   "execution_count": 32,
   "metadata": {
    "colab": {
     "base_uri": "https://localhost:8080/",
     "height": 34
    },
    "colab_type": "code",
    "executionInfo": {
     "elapsed": 749,
     "status": "ok",
     "timestamp": 1587357095895,
     "user": {
      "displayName": "阿曽太郎",
      "photoUrl": "",
      "userId": "14621805940381040565"
     },
     "user_tz": -540
    },
    "id": "iPG8qa6bERtO",
    "outputId": "36207a50-18f2-4def-b963-38c7ac7eb4ec"
   },
   "outputs": [
    {
     "name": "stdout",
     "output_type": "stream",
     "text": [
      "82962 , 101\n"
     ]
    }
   ],
   "source": [
    "n = len(entities)\n",
    "m = len(properties)\n",
    "print(n,',',m)"
   ]
  },
  {
   "cell_type": "code",
   "execution_count": 33,
   "metadata": {
    "colab": {},
    "colab_type": "code",
    "id": "lE_xrQb3ERtS"
   },
   "outputs": [
    {
     "ename": "RuntimeError",
     "evalue": "[enforce fail at alloc_cpu.cpp:75] err == 0. DefaultCPUAllocator: can't allocate memory: you tried to allocate 2780608151376 bytes. Error code 12 (Cannot allocate memory)",
     "output_type": "error",
     "traceback": [
      "\u001b[0;31m---------------------------------------------------------------------------\u001b[0m",
      "\u001b[0;31mRuntimeError\u001b[0m                              Traceback (most recent call last)",
      "Cell \u001b[0;32mIn[33], line 1\u001b[0m\n\u001b[0;32m----> 1\u001b[0m tensor \u001b[38;5;241m=\u001b[39m \u001b[43mtorch\u001b[49m\u001b[38;5;241;43m.\u001b[39;49m\u001b[43mzeros\u001b[49m\u001b[43m(\u001b[49m\u001b[43m[\u001b[49m\u001b[43mn\u001b[49m\u001b[43m,\u001b[49m\u001b[43mn\u001b[49m\u001b[43m,\u001b[49m\u001b[43mm\u001b[49m\u001b[43m]\u001b[49m\u001b[43m)\u001b[49m\n",
      "\u001b[0;31mRuntimeError\u001b[0m: [enforce fail at alloc_cpu.cpp:75] err == 0. DefaultCPUAllocator: can't allocate memory: you tried to allocate 2780608151376 bytes. Error code 12 (Cannot allocate memory)"
     ]
    }
   ],
   "source": [
    "tensor = torch.zeros([n,n,m])"
   ]
  },
  {
   "cell_type": "code",
   "execution_count": 0,
   "metadata": {
    "colab": {},
    "colab_type": "code",
    "id": "3s34n4g3ERtU"
   },
   "outputs": [],
   "source": []
  }
 ],
 "metadata": {
  "colab": {
   "collapsed_sections": [],
   "machine_shape": "hm",
   "name": "tf_sparse_tensor.ipynb",
   "provenance": [
    {
     "file_id": "1aaoT9sdA9k94chOV_O59vqUwZQvyrguQ",
     "timestamp": 1587972072914
    }
   ]
  },
  "kernelspec": {
   "display_name": "Python 3 (ipykernel)",
   "language": "python",
   "name": "python3"
  },
  "language_info": {
   "codemirror_mode": {
    "name": "ipython",
    "version": 3
   },
   "file_extension": ".py",
   "mimetype": "text/x-python",
   "name": "python",
   "nbconvert_exporter": "python",
   "pygments_lexer": "ipython3",
   "version": "3.10.6"
  }
 },
 "nbformat": 4,
 "nbformat_minor": 1
}
