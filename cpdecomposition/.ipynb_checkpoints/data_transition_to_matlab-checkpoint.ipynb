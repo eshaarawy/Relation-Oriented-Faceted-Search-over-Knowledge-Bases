{
 "cells": [
  {
   "cell_type": "code",
   "execution_count": 1,
   "metadata": {
    "colab": {
     "base_uri": "https://localhost:8080/",
     "height": 34
    },
    "colab_type": "code",
    "executionInfo": {
     "elapsed": 1335,
     "status": "ok",
     "timestamp": 1589541731378,
     "user": {
      "displayName": "阿曽太郎",
      "photoUrl": "",
      "userId": "14621805940381040565"
     },
     "user_tz": -540
    },
    "id": "AnH6AVaeERsz",
    "outputId": "296414bd-11fc-453e-afec-17d42e74b64f"
   },
   "outputs": [],
   "source": [
    "import pandas as pd\n",
    "import numpy as np\n",
    "#from google.colab import drive\n",
    "#drive.mount('/content/drive/')"
   ]
  },
  {
   "cell_type": "code",
   "execution_count": 2,
   "metadata": {
    "colab": {
     "base_uri": "https://localhost:8080/",
     "height": 224
    },
    "colab_type": "code",
    "executionInfo": {
     "elapsed": 2452,
     "status": "ok",
     "timestamp": 1589541736992,
     "user": {
      "displayName": "阿曽太郎",
      "photoUrl": "",
      "userId": "14621805940381040565"
     },
     "user_tz": -540
    },
    "id": "eMoS0YYNERtB",
    "outputId": "b3448980-0fd9-4bb2-c08c-d41a42693f95"
   },
   "outputs": [
    {
     "data": {
      "text/html": [
       "<div>\n",
       "<style scoped>\n",
       "    .dataframe tbody tr th:only-of-type {\n",
       "        vertical-align: middle;\n",
       "    }\n",
       "\n",
       "    .dataframe tbody tr th {\n",
       "        vertical-align: top;\n",
       "    }\n",
       "\n",
       "    .dataframe thead th {\n",
       "        text-align: right;\n",
       "    }\n",
       "</style>\n",
       "<table border=\"1\" class=\"dataframe\">\n",
       "  <thead>\n",
       "    <tr style=\"text-align: right;\">\n",
       "      <th></th>\n",
       "      <th>subject</th>\n",
       "      <th>property</th>\n",
       "      <th>object</th>\n",
       "    </tr>\n",
       "  </thead>\n",
       "  <tbody>\n",
       "    <tr>\n",
       "      <th>0</th>\n",
       "      <td>http://dbpedia.org/resource/Saint_Thomas_Health</td>\n",
       "      <td>http://dbpedia.org/ontology/regionServed</td>\n",
       "      <td>http://dbpedia.org/resource/Middle_Tennessee</td>\n",
       "    </tr>\n",
       "    <tr>\n",
       "      <th>1</th>\n",
       "      <td>http://dbpedia.org/resource/Saint_Thomas_Health</td>\n",
       "      <td>http://dbpedia.org/ontology/regionServed</td>\n",
       "      <td>http://dbpedia.org/resource/South_Central_Kent...</td>\n",
       "    </tr>\n",
       "    <tr>\n",
       "      <th>2</th>\n",
       "      <td>http://dbpedia.org/resource/Saint_Thomas_Health</td>\n",
       "      <td>http://dbpedia.org/ontology/locationCountry</td>\n",
       "      <td>http://dbpedia.org/resource/United_States</td>\n",
       "    </tr>\n",
       "    <tr>\n",
       "      <th>3</th>\n",
       "      <td>http://dbpedia.org/resource/Pangea3</td>\n",
       "      <td>http://xmlns.com/foaf/0.1/homepage</td>\n",
       "      <td>http://www.pangea3.com</td>\n",
       "    </tr>\n",
       "    <tr>\n",
       "      <th>4</th>\n",
       "      <td>http://dbpedia.org/resource/Pangea3</td>\n",
       "      <td>http://dbpedia.org/ontology/foundationPlace</td>\n",
       "      <td>http://dbpedia.org/resource/United_States</td>\n",
       "    </tr>\n",
       "  </tbody>\n",
       "</table>\n",
       "</div>"
      ],
      "text/plain": [
       "                                           subject  \\\n",
       "0  http://dbpedia.org/resource/Saint_Thomas_Health   \n",
       "1  http://dbpedia.org/resource/Saint_Thomas_Health   \n",
       "2  http://dbpedia.org/resource/Saint_Thomas_Health   \n",
       "3              http://dbpedia.org/resource/Pangea3   \n",
       "4              http://dbpedia.org/resource/Pangea3   \n",
       "\n",
       "                                      property  \\\n",
       "0     http://dbpedia.org/ontology/regionServed   \n",
       "1     http://dbpedia.org/ontology/regionServed   \n",
       "2  http://dbpedia.org/ontology/locationCountry   \n",
       "3           http://xmlns.com/foaf/0.1/homepage   \n",
       "4  http://dbpedia.org/ontology/foundationPlace   \n",
       "\n",
       "                                              object  \n",
       "0       http://dbpedia.org/resource/Middle_Tennessee  \n",
       "1  http://dbpedia.org/resource/South_Central_Kent...  \n",
       "2          http://dbpedia.org/resource/United_States  \n",
       "3                             http://www.pangea3.com  \n",
       "4          http://dbpedia.org/resource/United_States  "
      ]
     },
     "execution_count": 2,
     "metadata": {},
     "output_type": "execute_result"
    }
   ],
   "source": [
    "#Select input.csv in My Drive in google drive\n",
    "#df = pd.read_csv('/content/drive/My Drive/cpdecomposition/input/triple.csv')\n",
    "df = pd.read_csv('./input/triple.csv')\n",
    "df.head()"
   ]
  },
  {
   "cell_type": "code",
   "execution_count": 3,
   "metadata": {
    "colab": {},
    "colab_type": "code",
    "id": "3s34n4g3ERtU"
   },
   "outputs": [],
   "source": [
    "#Extracting resources\n",
    "subjects = df['subject'].unique()\n",
    "objects = df['object'].unique()\n",
    "\n",
    "'''\n",
    "#entities, make a list of properties\n",
    "entities = np.concatenate([subjects, objects],0)\n",
    "entities = np.unique(entities)\n",
    "'''\n",
    "properties =df['property'].unique()"
   ]
  },
  {
   "cell_type": "code",
   "execution_count": 4,
   "metadata": {
    "colab": {},
    "colab_type": "code",
    "id": "gx11f2Ddh9Sy"
   },
   "outputs": [],
   "source": [
    "#Create index conversion dictionaries for subjects, objects and properties.\n",
    "dict_sub = {}\n",
    "dict_obj = {}\n",
    "dict_prop = {}\n",
    "\n",
    "cnt = 0\n",
    "for i in subjects:\n",
    "  dict_sub[i] = cnt\n",
    "  cnt = cnt + 1\n",
    "\n",
    "cnt = 0\n",
    "for j in objects:\n",
    "  dict_obj[j] = cnt\n",
    "  cnt = cnt + 1\n",
    "\n",
    "cnt = 0\n",
    "for k in properties:\n",
    "  dict_prop[k] = cnt \n",
    "  cnt = cnt + 1"
   ]
  },
  {
   "cell_type": "code",
   "execution_count": 5,
   "metadata": {
    "colab": {},
    "colab_type": "code",
    "id": "wNEa2v4diBPL"
   },
   "outputs": [],
   "source": [
    "indexes = []\n",
    "for triple in df.values:\n",
    "  s, p, o = triple[0], triple[1], triple[2]\n",
    "  indexes.append([dict_sub[s],dict_obj[o],dict_prop[p]])\n",
    "\n",
    "data = 1.0\n",
    "\n",
    "shape = [len(subjects), len(objects), len(properties)]"
   ]
  },
  {
   "cell_type": "code",
   "execution_count": 6,
   "metadata": {
    "colab": {},
    "colab_type": "code",
    "id": "2SFfgSBIpm26"
   },
   "outputs": [],
   "source": [
    "import pickle\n",
    "\n",
    "with open(\"dict_sub.pkl\",\"wb\") as f:\n",
    "    pickle.dump(dict_sub, f)\n",
    "\n",
    "with open(\"dict_obj.pkl\",\"wb\") as f:\n",
    "    pickle.dump(dict_obj, f)\n",
    "\n",
    "with open(\"dict_prop.pkl\",\"wb\") as f:\n",
    "    pickle.dump(dict_prop, f)"
   ]
  },
  {
   "cell_type": "code",
   "execution_count": 8,
   "metadata": {
    "colab": {},
    "colab_type": "code",
    "id": "P3V4f-gmesVW"
   },
   "outputs": [],
   "source": [
    "np.savetxt('./indexes_of_triple2.txt', indexes)\n",
    "np.savetxt('./shape_of_tensor2.txt', shape)"
   ]
  },
  {
   "cell_type": "code",
   "execution_count": 9,
   "metadata": {
    "colab": {
     "base_uri": "https://localhost:8080/",
     "height": 34
    },
    "colab_type": "code",
    "executionInfo": {
     "elapsed": 720,
     "status": "ok",
     "timestamp": 1588294294298,
     "user": {
      "displayName": "阿曽太郎",
      "photoUrl": "",
      "userId": "14621805940381040565"
     },
     "user_tz": -540
    },
    "id": "3ExUvhoSxCfg",
    "outputId": "06d66f37-6b3a-470c-d4da-ea51225d8001"
   },
   "outputs": [
    {
     "data": {
      "text/plain": [
       "[115828, 219968, 101]"
      ]
     },
     "execution_count": 9,
     "metadata": {},
     "output_type": "execute_result"
    }
   ],
   "source": [
    "shape"
   ]
  },
  {
   "cell_type": "code",
   "execution_count": 0,
   "metadata": {
    "colab": {},
    "colab_type": "code",
    "id": "Q2-NzWA3t5Zc"
   },
   "outputs": [],
   "source": []
  }
 ],
 "metadata": {
  "colab": {
   "collapsed_sections": [],
   "machine_shape": "hm",
   "name": "data_transition_to_matlab.ipynb",
   "provenance": []
  },
  "kernelspec": {
   "display_name": "Python 3 (ipykernel)",
   "language": "python",
   "name": "python3"
  },
  "language_info": {
   "codemirror_mode": {
    "name": "ipython",
    "version": 3
   },
   "file_extension": ".py",
   "mimetype": "text/x-python",
   "name": "python",
   "nbconvert_exporter": "python",
   "pygments_lexer": "ipython3",
   "version": "3.10.6"
  }
 },
 "nbformat": 4,
 "nbformat_minor": 1
}
